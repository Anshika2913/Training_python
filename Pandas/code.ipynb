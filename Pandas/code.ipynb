{
 "cells": [
  {
   "cell_type": "markdown",
   "id": "a7ffebb9",
   "metadata": {},
   "source": [
    "create a series with following elements using a list [10,20,30,40]"
   ]
  },
  {
   "cell_type": "code",
   "execution_count": 3,
   "id": "16d96e67",
   "metadata": {},
   "outputs": [],
   "source": [
    "import pandas as pd"
   ]
  },
  {
   "cell_type": "code",
   "execution_count": 71,
   "id": "a1553ccc",
   "metadata": {},
   "outputs": [
    {
     "data": {
      "text/plain": [
       "0    10\n",
       "1    20\n",
       "2    30\n",
       "3    40\n",
       "dtype: int64"
      ]
     },
     "execution_count": 71,
     "metadata": {},
     "output_type": "execute_result"
    }
   ],
   "source": [
    "s1=pd.Series([10,20,30,40])\n",
    "s1 "
   ]
  },
  {
   "cell_type": "code",
   "execution_count": 6,
   "id": "a529993f",
   "metadata": {},
   "outputs": [
    {
     "data": {
      "text/plain": [
       "a    10\n",
       "b    20\n",
       "c    30\n",
       "d    40\n",
       "dtype: int64"
      ]
     },
     "execution_count": 6,
     "metadata": {},
     "output_type": "execute_result"
    }
   ],
   "source": [
    "s2=pd.Series([10,20,30,40], index=['a','b','c','d'])\n",
    "s2"
   ]
  },
  {
   "cell_type": "code",
   "execution_count": 72,
   "id": "9ba7d346",
   "metadata": {},
   "outputs": [
    {
     "data": {
      "text/plain": [
       "a    10\n",
       "b    20\n",
       "c    30\n",
       "d    40\n",
       "dtype: int64"
      ]
     },
     "execution_count": 72,
     "metadata": {},
     "output_type": "execute_result"
    }
   ],
   "source": [
    "s3=pd.Series({'a':10,'b':20,'c':30,'d':40})\n",
    "s3"
   ]
  },
  {
   "cell_type": "code",
   "execution_count": 13,
   "id": "e67333aa",
   "metadata": {},
   "outputs": [
    {
     "name": "stdout",
     "output_type": "stream",
     "text": [
      "<class 'pandas.core.series.Series'>\n"
     ]
    }
   ],
   "source": [
    "print(type(s3))"
   ]
  },
  {
   "cell_type": "markdown",
   "id": "ccb81068",
   "metadata": {},
   "source": [
    "create a series using a scalar"
   ]
  },
  {
   "cell_type": "code",
   "execution_count": 77,
   "id": "97630f1c",
   "metadata": {},
   "outputs": [
    {
     "data": {
      "text/plain": [
       "a    5\n",
       "b    5\n",
       "c    5\n",
       "d    5\n",
       "dtype: int64"
      ]
     },
     "execution_count": 77,
     "metadata": {},
     "output_type": "execute_result"
    }
   ],
   "source": [
    "s4=pd.Series(5, index=['a','b','c','d'])\n",
    "s4"
   ]
  },
  {
   "cell_type": "markdown",
   "id": "5cf01de8",
   "metadata": {},
   "source": [
    "Access the second element from series s3"
   ]
  },
  {
   "cell_type": "code",
   "execution_count": 17,
   "id": "b59a4cc2",
   "metadata": {},
   "outputs": [
    {
     "name": "stdout",
     "output_type": "stream",
     "text": [
      "20\n"
     ]
    }
   ],
   "source": [
    "s3=pd.Series({'a':10,'b':20,'c':30,'d':40})\n",
    "s3\n",
    "print(s3['b'])"
   ]
  },
  {
   "cell_type": "code",
   "execution_count": 18,
   "id": "365ae7b5",
   "metadata": {},
   "outputs": [
    {
     "name": "stdout",
     "output_type": "stream",
     "text": [
      "20\n"
     ]
    },
    {
     "name": "stderr",
     "output_type": "stream",
     "text": [
      "C:\\Users\\Anshika Patel\\AppData\\Local\\Temp\\ipykernel_14240\\4293192412.py:1: FutureWarning: Series.__getitem__ treating keys as positions is deprecated. In a future version, integer keys will always be treated as labels (consistent with DataFrame behavior). To access a value by position, use `ser.iloc[pos]`\n",
      "  print(s3[1])\n"
     ]
    }
   ],
   "source": [
    "print(s3[1])"
   ]
  },
  {
   "cell_type": "markdown",
   "id": "36373697",
   "metadata": {},
   "source": [
    "Vector operations on series"
   ]
  },
  {
   "cell_type": "code",
   "execution_count": 20,
   "id": "7b053400",
   "metadata": {},
   "outputs": [
    {
     "data": {
      "text/plain": [
       "a    15\n",
       "b    25\n",
       "c    35\n",
       "d    45\n",
       "dtype: int64"
      ]
     },
     "execution_count": 20,
     "metadata": {},
     "output_type": "execute_result"
    }
   ],
   "source": [
    "s6=s3+s4\n",
    "s6"
   ]
  },
  {
   "cell_type": "code",
   "execution_count": 19,
   "id": "e0a75641",
   "metadata": {},
   "outputs": [
    {
     "data": {
      "text/plain": [
       "0   NaN\n",
       "1   NaN\n",
       "2   NaN\n",
       "3   NaN\n",
       "a   NaN\n",
       "b   NaN\n",
       "c   NaN\n",
       "d   NaN\n",
       "dtype: float64"
      ]
     },
     "execution_count": 19,
     "metadata": {},
     "output_type": "execute_result"
    }
   ],
   "source": [
    "s5=s1+s3\n",
    "s5"
   ]
  },
  {
   "cell_type": "code",
   "execution_count": 76,
   "id": "b0e70247",
   "metadata": {},
   "outputs": [
    {
     "data": {
      "text/plain": [
       "a    100\n",
       "d    200\n",
       "e    300\n",
       "f    400\n",
       "dtype: int64"
      ]
     },
     "execution_count": 76,
     "metadata": {},
     "output_type": "execute_result"
    }
   ],
   "source": [
    "s7=pd.Series([100,200,300,400],index=['a','d','e','f'])\n",
    "s7"
   ]
  },
  {
   "cell_type": "code",
   "execution_count": 24,
   "id": "9dceeff2",
   "metadata": {},
   "outputs": [
    {
     "data": {
      "text/plain": [
       "a    105.0\n",
       "b      NaN\n",
       "c      NaN\n",
       "d    205.0\n",
       "e      NaN\n",
       "f      NaN\n",
       "dtype: float64"
      ]
     },
     "execution_count": 24,
     "metadata": {},
     "output_type": "execute_result"
    }
   ],
   "source": [
    "s8=s4+s7\n",
    "s8"
   ]
  },
  {
   "cell_type": "markdown",
   "id": "89ae347d",
   "metadata": {},
   "source": [
    "Create a dataframe to store student's personal details like first name, last name, age, city. Store the details of atleast 5 students"
   ]
  },
  {
   "cell_type": "code",
   "execution_count": 29,
   "id": "69450b4e",
   "metadata": {},
   "outputs": [
    {
     "data": {
      "text/plain": [
       "First_name:                 [Ram, Shyam, Tom, Jack, Ritu]\n",
       "Last_name:            [Sharma, Mishra, Verma, Rai, Singh]\n",
       "age:                                 [10, 20, 15, 22, 12]\n",
       "city:          [Kanpur, Lucknow, Lucknow, Kanpur, Kanpur]\n",
       "dtype: object"
      ]
     },
     "execution_count": 29,
     "metadata": {},
     "output_type": "execute_result"
    }
   ],
   "source": [
    "s9=pd.Series({'First_name:':['Ram','Shyam','Tom','Jack','Ritu'] ,'Last_name:':['Sharma','Mishra','Verma','Rai','Singh'],'age:':[10,20,15,22,12] ,'city:':['Kanpur','Lucknow','Lucknow','Kanpur','Kanpur']})\n",
    "s9"
   ]
  },
  {
   "cell_type": "code",
   "execution_count": 101,
   "id": "f36d2e7c",
   "metadata": {},
   "outputs": [
    {
     "data": {
      "text/html": [
       "<div>\n",
       "<style scoped>\n",
       "    .dataframe tbody tr th:only-of-type {\n",
       "        vertical-align: middle;\n",
       "    }\n",
       "\n",
       "    .dataframe tbody tr th {\n",
       "        vertical-align: top;\n",
       "    }\n",
       "\n",
       "    .dataframe thead th {\n",
       "        text-align: right;\n",
       "    }\n",
       "</style>\n",
       "<table border=\"1\" class=\"dataframe\">\n",
       "  <thead>\n",
       "    <tr style=\"text-align: right;\">\n",
       "      <th></th>\n",
       "      <th>First_name:</th>\n",
       "      <th>Last_name:</th>\n",
       "      <th>age:</th>\n",
       "      <th>city:</th>\n",
       "    </tr>\n",
       "  </thead>\n",
       "  <tbody>\n",
       "    <tr>\n",
       "      <th>0</th>\n",
       "      <td>Ram</td>\n",
       "      <td>Sharma</td>\n",
       "      <td>10</td>\n",
       "      <td>Kanpur</td>\n",
       "    </tr>\n",
       "    <tr>\n",
       "      <th>1</th>\n",
       "      <td>Shyam</td>\n",
       "      <td>Mishra</td>\n",
       "      <td>20</td>\n",
       "      <td>Lucknow</td>\n",
       "    </tr>\n",
       "    <tr>\n",
       "      <th>2</th>\n",
       "      <td>Tom</td>\n",
       "      <td>Verma</td>\n",
       "      <td>15</td>\n",
       "      <td>Lucknow</td>\n",
       "    </tr>\n",
       "    <tr>\n",
       "      <th>3</th>\n",
       "      <td>Jack</td>\n",
       "      <td>Rai</td>\n",
       "      <td>22</td>\n",
       "      <td>Kanpur</td>\n",
       "    </tr>\n",
       "    <tr>\n",
       "      <th>4</th>\n",
       "      <td>Ritu</td>\n",
       "      <td>Singh</td>\n",
       "      <td>12</td>\n",
       "      <td>Kanpur</td>\n",
       "    </tr>\n",
       "  </tbody>\n",
       "</table>\n",
       "</div>"
      ],
      "text/plain": [
       "  First_name: Last_name:  age:    city:\n",
       "0         Ram     Sharma    10   Kanpur\n",
       "1       Shyam     Mishra    20  Lucknow\n",
       "2         Tom      Verma    15  Lucknow\n",
       "3        Jack        Rai    22   Kanpur\n",
       "4        Ritu      Singh    12   Kanpur"
      ]
     },
     "execution_count": 101,
     "metadata": {},
     "output_type": "execute_result"
    }
   ],
   "source": [
    "df1=pd.DataFrame({'First_name:':['Ram','Shyam','Tom','Jack','Ritu'] ,'Last_name:':['Sharma','Mishra','Verma','Rai','Singh'],'age:':[10,20,15,22,12] ,'city:':['Kanpur','Lucknow','Lucknow','Kanpur','Kanpur']})\n",
    "df1"
   ]
  },
  {
   "cell_type": "code",
   "execution_count": 31,
   "id": "e3117232",
   "metadata": {},
   "outputs": [
    {
     "data": {
      "text/html": [
       "<div>\n",
       "<style scoped>\n",
       "    .dataframe tbody tr th:only-of-type {\n",
       "        vertical-align: middle;\n",
       "    }\n",
       "\n",
       "    .dataframe tbody tr th {\n",
       "        vertical-align: top;\n",
       "    }\n",
       "\n",
       "    .dataframe thead th {\n",
       "        text-align: right;\n",
       "    }\n",
       "</style>\n",
       "<table border=\"1\" class=\"dataframe\">\n",
       "  <thead>\n",
       "    <tr style=\"text-align: right;\">\n",
       "      <th></th>\n",
       "      <th>0</th>\n",
       "      <th>1</th>\n",
       "      <th>2</th>\n",
       "      <th>3</th>\n",
       "      <th>4</th>\n",
       "    </tr>\n",
       "  </thead>\n",
       "  <tbody>\n",
       "    <tr>\n",
       "      <th>0</th>\n",
       "      <td>a</td>\n",
       "      <td>b</td>\n",
       "      <td>c</td>\n",
       "      <td>d</td>\n",
       "      <td>e</td>\n",
       "    </tr>\n",
       "    <tr>\n",
       "      <th>1</th>\n",
       "      <td>p</td>\n",
       "      <td>q</td>\n",
       "      <td>r</td>\n",
       "      <td>s</td>\n",
       "      <td>t</td>\n",
       "    </tr>\n",
       "    <tr>\n",
       "      <th>2</th>\n",
       "      <td>10</td>\n",
       "      <td>20</td>\n",
       "      <td>15</td>\n",
       "      <td>22</td>\n",
       "      <td>12</td>\n",
       "    </tr>\n",
       "    <tr>\n",
       "      <th>3</th>\n",
       "      <td>Kanpur</td>\n",
       "      <td>Lucknow</td>\n",
       "      <td>Lucknow</td>\n",
       "      <td>Kanpur</td>\n",
       "      <td>Kanpur</td>\n",
       "    </tr>\n",
       "  </tbody>\n",
       "</table>\n",
       "</div>"
      ],
      "text/plain": [
       "        0        1        2       3       4\n",
       "0       a        b        c       d       e\n",
       "1       p        q        r       s       t\n",
       "2      10       20       15      22      12\n",
       "3  Kanpur  Lucknow  Lucknow  Kanpur  Kanpur"
      ]
     },
     "execution_count": 31,
     "metadata": {},
     "output_type": "execute_result"
    }
   ],
   "source": [
    "s1=pd.Series(['a','b','c','d','e'])\n",
    "s2=pd.Series(['p','q','r','s','t'])\n",
    "s3=pd.Series([10,20,15,22,12])\n",
    "s4=pd.Series(['Kanpur','Lucknow','Lucknow','Kanpur','Kanpur'])\n",
    "df2=pd.DataFrame([s1,s2,s3,s4])\n",
    "df2"
   ]
  },
  {
   "cell_type": "markdown",
   "id": "d851aa4e",
   "metadata": {},
   "source": [
    "Print the age of all the students."
   ]
  },
  {
   "cell_type": "code",
   "execution_count": 36,
   "id": "3f93ff19",
   "metadata": {},
   "outputs": [
    {
     "name": "stdout",
     "output_type": "stream",
     "text": [
      "0    10\n",
      "1    20\n",
      "2    15\n",
      "3    22\n",
      "4    12\n",
      "Name: age:, dtype: int64\n"
     ]
    }
   ],
   "source": [
    "print(df1['age:'])"
   ]
  },
  {
   "cell_type": "code",
   "execution_count": 37,
   "id": "015dcc93",
   "metadata": {},
   "outputs": [
    {
     "name": "stdout",
     "output_type": "stream",
     "text": [
      "  Last_name:    city:\n",
      "0     Sharma   Kanpur\n",
      "1     Mishra  Lucknow\n",
      "2      Verma  Lucknow\n",
      "3        Rai   Kanpur\n",
      "4      Singh   Kanpur\n"
     ]
    }
   ],
   "source": [
    "print(df1[['Last_name:','city:']])"
   ]
  },
  {
   "cell_type": "markdown",
   "id": "1f91361c",
   "metadata": {},
   "source": [
    "Find the details of students who lives in kanpur."
   ]
  },
  {
   "cell_type": "code",
   "execution_count": 54,
   "id": "b4b1e9ea",
   "metadata": {},
   "outputs": [
    {
     "name": "stdout",
     "output_type": "stream",
     "text": [
      "  First_name: Last_name:  age:\n",
      "0         Ram     Sharma    10\n",
      "3        Jack        Rai    22\n",
      "4        Ritu      Singh    12\n"
     ]
    }
   ],
   "source": [
    "df1=df1[df1['city:']=='Kanpur'][['First_name:','Last_name:','age:']]\n",
    "print(df1) "
   ]
  },
  {
   "cell_type": "markdown",
   "id": "958dd2be",
   "metadata": {},
   "source": [
    "FInd details of students whose age > 20"
   ]
  },
  {
   "cell_type": "code",
   "execution_count": 63,
   "id": "da4656b3",
   "metadata": {},
   "outputs": [
    {
     "name": "stdout",
     "output_type": "stream",
     "text": [
      "  First_name: Last_name:  age:   city:\n",
      "3        Jack        Rai    22  Kanpur\n"
     ]
    }
   ],
   "source": [
    "df1=df1[df1['age:']>20]\n",
    "print(df1)"
   ]
  },
  {
   "cell_type": "markdown",
   "id": "517e4dd3",
   "metadata": {},
   "source": [
    "Find first name of students where age>20"
   ]
  },
  {
   "cell_type": "code",
   "execution_count": 64,
   "id": "aa2b2fd7",
   "metadata": {},
   "outputs": [
    {
     "name": "stdout",
     "output_type": "stream",
     "text": [
      "3    Jack\n",
      "Name: First_name:, dtype: object\n"
     ]
    }
   ],
   "source": [
    "df1=df1[df1['age:']>20]['First_name:']\n",
    "print(df1)"
   ]
  },
  {
   "cell_type": "markdown",
   "id": "87ad0ebc",
   "metadata": {},
   "source": [
    "Find first name and last name of students where age>20"
   ]
  },
  {
   "cell_type": "code",
   "execution_count": 68,
   "id": "25670e11",
   "metadata": {},
   "outputs": [
    {
     "name": "stdout",
     "output_type": "stream",
     "text": [
      "  First_name: Last_name:\n",
      "3        Jack        Rai\n"
     ]
    }
   ],
   "source": [
    "df1=df1[df1['age:']>20][['First_name:','Last_name:']]\n",
    "print(df1)"
   ]
  },
  {
   "cell_type": "markdown",
   "id": "b91e4b03",
   "metadata": {},
   "source": [
    "Delete null values from a series."
   ]
  },
  {
   "cell_type": "code",
   "execution_count": 73,
   "id": "ce5c30ca",
   "metadata": {},
   "outputs": [
    {
     "data": {
      "text/plain": [
       "0   NaN\n",
       "1   NaN\n",
       "2   NaN\n",
       "3   NaN\n",
       "a   NaN\n",
       "b   NaN\n",
       "c   NaN\n",
       "d   NaN\n",
       "dtype: float64"
      ]
     },
     "execution_count": 73,
     "metadata": {},
     "output_type": "execute_result"
    }
   ],
   "source": [
    "s5=s1+s3\n",
    "s5"
   ]
  },
  {
   "cell_type": "code",
   "execution_count": 75,
   "id": "5fa5317a",
   "metadata": {},
   "outputs": [
    {
     "data": {
      "text/plain": [
       "Series([], dtype: float64)"
      ]
     },
     "execution_count": 75,
     "metadata": {},
     "output_type": "execute_result"
    }
   ],
   "source": [
    "s5=s5.dropna()\n",
    "s5"
   ]
  },
  {
   "cell_type": "code",
   "execution_count": 80,
   "id": "3e35c8ab",
   "metadata": {},
   "outputs": [
    {
     "data": {
      "text/plain": [
       "a    105.0\n",
       "b      NaN\n",
       "c      NaN\n",
       "d    205.0\n",
       "e      NaN\n",
       "f      NaN\n",
       "dtype: float64"
      ]
     },
     "execution_count": 80,
     "metadata": {},
     "output_type": "execute_result"
    }
   ],
   "source": [
    "s8=s4+s7\n",
    "s8"
   ]
  },
  {
   "cell_type": "code",
   "execution_count": 83,
   "id": "d1b38233",
   "metadata": {},
   "outputs": [
    {
     "data": {
      "text/plain": [
       "a    105.0\n",
       "b      0.0\n",
       "c      0.0\n",
       "d    205.0\n",
       "e      0.0\n",
       "f      0.0\n",
       "dtype: float64"
      ]
     },
     "execution_count": 83,
     "metadata": {},
     "output_type": "execute_result"
    }
   ],
   "source": [
    "#used to fill 0 to null or NaN places in a series\n",
    "s8=s8.fillna(0)\n",
    "s8"
   ]
  },
  {
   "cell_type": "markdown",
   "id": "88e33b12",
   "metadata": {},
   "source": [
    "Find the first name and age of students who lives in Lucknow using 'loc' method"
   ]
  },
  {
   "cell_type": "markdown",
   "id": "057d6f5b",
   "metadata": {},
   "source": [
    "loc - uses labels\n",
    "iloc - select columns using indexing"
   ]
  },
  {
   "cell_type": "code",
   "execution_count": 96,
   "id": "768181f4",
   "metadata": {},
   "outputs": [
    {
     "name": "stdout",
     "output_type": "stream",
     "text": [
      "  First_name:  age:\n",
      "1       Shyam    20\n",
      "2         Tom    15\n"
     ]
    }
   ],
   "source": [
    "#without using loc method\n",
    "df1=df1[df1['city:']=='Lucknow'][['First_name:','age:']]\n",
    "print(df1)"
   ]
  },
  {
   "cell_type": "code",
   "execution_count": 93,
   "id": "eb54853c",
   "metadata": {},
   "outputs": [
    {
     "name": "stdout",
     "output_type": "stream",
     "text": [
      "  First_name:  age:\n",
      "1       Shyam    20\n",
      "2         Tom    15\n"
     ]
    }
   ],
   "source": [
    "df1=df1[df1['city:']=='Lucknow'].loc[:,['First_name:','age:']]\n",
    "print(df1)"
   ]
  },
  {
   "cell_type": "code",
   "execution_count": 99,
   "id": "ecebe6b4",
   "metadata": {},
   "outputs": [
    {
     "name": "stdout",
     "output_type": "stream",
     "text": [
      "  First_name:  age:\n",
      "1       Shyam    20\n",
      "2         Tom    15\n"
     ]
    }
   ],
   "source": [
    "#using iloc method\n",
    "df1=df1.loc[df1['city:']=='Lucknow'].iloc[:,[0,2]]\n",
    "print(df1)\n"
   ]
  },
  {
   "cell_type": "code",
   "execution_count": null,
   "id": "2cbd68ac",
   "metadata": {},
   "outputs": [
    {
     "data": {
      "text/html": [
       "<div>\n",
       "<style scoped>\n",
       "    .dataframe tbody tr th:only-of-type {\n",
       "        vertical-align: middle;\n",
       "    }\n",
       "\n",
       "    .dataframe tbody tr th {\n",
       "        vertical-align: top;\n",
       "    }\n",
       "\n",
       "    .dataframe thead th {\n",
       "        text-align: right;\n",
       "    }\n",
       "</style>\n",
       "<table border=\"1\" class=\"dataframe\">\n",
       "  <thead>\n",
       "    <tr style=\"text-align: right;\">\n",
       "      <th></th>\n",
       "      <th>First_name:</th>\n",
       "      <th>Last_name:</th>\n",
       "      <th>age:</th>\n",
       "      <th>city:</th>\n",
       "    </tr>\n",
       "  </thead>\n",
       "  <tbody>\n",
       "    <tr>\n",
       "      <th>0</th>\n",
       "      <td>Ram</td>\n",
       "      <td>Sharma</td>\n",
       "      <td>10</td>\n",
       "      <td>Kanpur</td>\n",
       "    </tr>\n",
       "    <tr>\n",
       "      <th>1</th>\n",
       "      <td>Shyam</td>\n",
       "      <td>Mishra</td>\n",
       "      <td>20</td>\n",
       "      <td>Lucknow</td>\n",
       "    </tr>\n",
       "    <tr>\n",
       "      <th>2</th>\n",
       "      <td>Tom</td>\n",
       "      <td>Verma</td>\n",
       "      <td>15</td>\n",
       "      <td>Lucknow</td>\n",
       "    </tr>\n",
       "    <tr>\n",
       "      <th>3</th>\n",
       "      <td>Jack</td>\n",
       "      <td>Rai</td>\n",
       "      <td>22</td>\n",
       "      <td>Kanpur</td>\n",
       "    </tr>\n",
       "    <tr>\n",
       "      <th>4</th>\n",
       "      <td>Ritu</td>\n",
       "      <td>Singh</td>\n",
       "      <td>12</td>\n",
       "      <td>Kanpur</td>\n",
       "    </tr>\n",
       "  </tbody>\n",
       "</table>\n",
       "</div>"
      ],
      "text/plain": [
       "  First_name: Last_name:  age:    city:\n",
       "0         Ram     Sharma    10   Kanpur\n",
       "1       Shyam     Mishra    20  Lucknow\n",
       "2         Tom      Verma    15  Lucknow\n",
       "3        Jack        Rai    22   Kanpur\n",
       "4        Ritu      Singh    12   Kanpur"
      ]
     },
     "execution_count": 102,
     "metadata": {},
     "output_type": "execute_result"
    }
   ],
   "source": [
    "df1.head() "
   ]
  },
  {
   "cell_type": "code",
   "execution_count": null,
   "id": "f9a7118a",
   "metadata": {},
   "outputs": [
    {
     "data": {
      "text/html": [
       "<div>\n",
       "<style scoped>\n",
       "    .dataframe tbody tr th:only-of-type {\n",
       "        vertical-align: middle;\n",
       "    }\n",
       "\n",
       "    .dataframe tbody tr th {\n",
       "        vertical-align: top;\n",
       "    }\n",
       "\n",
       "    .dataframe thead th {\n",
       "        text-align: right;\n",
       "    }\n",
       "</style>\n",
       "<table border=\"1\" class=\"dataframe\">\n",
       "  <thead>\n",
       "    <tr style=\"text-align: right;\">\n",
       "      <th></th>\n",
       "      <th>First_name:</th>\n",
       "      <th>Last_name:</th>\n",
       "      <th>age:</th>\n",
       "      <th>city:</th>\n",
       "    </tr>\n",
       "  </thead>\n",
       "  <tbody>\n",
       "    <tr>\n",
       "      <th>0</th>\n",
       "      <td>Ram</td>\n",
       "      <td>Sharma</td>\n",
       "      <td>10</td>\n",
       "      <td>Kanpur</td>\n",
       "    </tr>\n",
       "    <tr>\n",
       "      <th>1</th>\n",
       "      <td>Shyam</td>\n",
       "      <td>Mishra</td>\n",
       "      <td>20</td>\n",
       "      <td>Lucknow</td>\n",
       "    </tr>\n",
       "    <tr>\n",
       "      <th>2</th>\n",
       "      <td>Tom</td>\n",
       "      <td>Verma</td>\n",
       "      <td>15</td>\n",
       "      <td>Lucknow</td>\n",
       "    </tr>\n",
       "  </tbody>\n",
       "</table>\n",
       "</div>"
      ],
      "text/plain": [
       "  First_name: Last_name:  age:    city:\n",
       "0         Ram     Sharma    10   Kanpur\n",
       "1       Shyam     Mishra    20  Lucknow\n",
       "2         Tom      Verma    15  Lucknow"
      ]
     },
     "execution_count": 103,
     "metadata": {},
     "output_type": "execute_result"
    }
   ],
   "source": [
    "df1.head(3)  #rows from head"
   ]
  },
  {
   "cell_type": "code",
   "execution_count": 104,
   "id": "c15c8ef5",
   "metadata": {},
   "outputs": [
    {
     "data": {
      "text/html": [
       "<div>\n",
       "<style scoped>\n",
       "    .dataframe tbody tr th:only-of-type {\n",
       "        vertical-align: middle;\n",
       "    }\n",
       "\n",
       "    .dataframe tbody tr th {\n",
       "        vertical-align: top;\n",
       "    }\n",
       "\n",
       "    .dataframe thead th {\n",
       "        text-align: right;\n",
       "    }\n",
       "</style>\n",
       "<table border=\"1\" class=\"dataframe\">\n",
       "  <thead>\n",
       "    <tr style=\"text-align: right;\">\n",
       "      <th></th>\n",
       "      <th>First_name:</th>\n",
       "      <th>Last_name:</th>\n",
       "      <th>age:</th>\n",
       "      <th>city:</th>\n",
       "    </tr>\n",
       "  </thead>\n",
       "  <tbody>\n",
       "    <tr>\n",
       "      <th>2</th>\n",
       "      <td>Tom</td>\n",
       "      <td>Verma</td>\n",
       "      <td>15</td>\n",
       "      <td>Lucknow</td>\n",
       "    </tr>\n",
       "    <tr>\n",
       "      <th>3</th>\n",
       "      <td>Jack</td>\n",
       "      <td>Rai</td>\n",
       "      <td>22</td>\n",
       "      <td>Kanpur</td>\n",
       "    </tr>\n",
       "    <tr>\n",
       "      <th>4</th>\n",
       "      <td>Ritu</td>\n",
       "      <td>Singh</td>\n",
       "      <td>12</td>\n",
       "      <td>Kanpur</td>\n",
       "    </tr>\n",
       "  </tbody>\n",
       "</table>\n",
       "</div>"
      ],
      "text/plain": [
       "  First_name: Last_name:  age:    city:\n",
       "2         Tom      Verma    15  Lucknow\n",
       "3        Jack        Rai    22   Kanpur\n",
       "4        Ritu      Singh    12   Kanpur"
      ]
     },
     "execution_count": 104,
     "metadata": {},
     "output_type": "execute_result"
    }
   ],
   "source": [
    "df1.tail(3) #rows from head"
   ]
  },
  {
   "cell_type": "code",
   "execution_count": 105,
   "id": "444df3ac",
   "metadata": {},
   "outputs": [
    {
     "name": "stdout",
     "output_type": "stream",
     "text": [
      "<class 'pandas.core.frame.DataFrame'>\n",
      "RangeIndex: 5 entries, 0 to 4\n",
      "Data columns (total 4 columns):\n",
      " #   Column       Non-Null Count  Dtype \n",
      "---  ------       --------------  ----- \n",
      " 0   First_name:  5 non-null      object\n",
      " 1   Last_name:   5 non-null      object\n",
      " 2   age:         5 non-null      int64 \n",
      " 3   city:        5 non-null      object\n",
      "dtypes: int64(1), object(3)\n",
      "memory usage: 292.0+ bytes\n"
     ]
    }
   ],
   "source": [
    "df1.info()"
   ]
  }
 ],
 "metadata": {
  "kernelspec": {
   "display_name": "venv",
   "language": "python",
   "name": "python3"
  },
  "language_info": {
   "codemirror_mode": {
    "name": "ipython",
    "version": 3
   },
   "file_extension": ".py",
   "mimetype": "text/x-python",
   "name": "python",
   "nbconvert_exporter": "python",
   "pygments_lexer": "ipython3",
   "version": "3.11.11"
  }
 },
 "nbformat": 4,
 "nbformat_minor": 5
}
