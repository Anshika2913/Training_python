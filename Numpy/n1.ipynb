{
 "cells": [
  {
   "cell_type": "markdown",
   "id": "724bb08c",
   "metadata": {},
   "source": [
    "create a numpy array using list"
   ]
  },
  {
   "cell_type": "code",
   "execution_count": 4,
   "id": "310ab60f",
   "metadata": {},
   "outputs": [],
   "source": [
    "import numpy as np"
   ]
  },
  {
   "cell_type": "code",
   "execution_count": null,
   "id": "f3527119",
   "metadata": {},
   "outputs": [
    {
     "data": {
      "text/plain": [
       "array([10, 20, 30, 40, 50])"
      ]
     },
     "execution_count": 10,
     "metadata": {},
     "output_type": "execute_result"
    }
   ],
   "source": [
    "#1-D array\n",
    "n1=np.array([10,20,30,40,50])\n",
    "n1"
   ]
  },
  {
   "cell_type": "code",
   "execution_count": 24,
   "id": "c1c164f1",
   "metadata": {},
   "outputs": [
    {
     "name": "stdout",
     "output_type": "stream",
     "text": [
      "(5,)\n",
      "5\n"
     ]
    }
   ],
   "source": [
    "print(n1.shape)\n",
    "print(n1.size)"
   ]
  },
  {
   "cell_type": "code",
   "execution_count": 19,
   "id": "e90b0fa4",
   "metadata": {},
   "outputs": [
    {
     "data": {
      "text/plain": [
       "array([[10, 20, 30, 40, 50],\n",
       "       [ 1,  2,  3,  4,  5]])"
      ]
     },
     "execution_count": 19,
     "metadata": {},
     "output_type": "execute_result"
    }
   ],
   "source": [
    "#2-D array\n",
    "n2=np.array([[10,20,30,40,50],[1,2,3,4,5]])\n",
    "n2"
   ]
  },
  {
   "cell_type": "code",
   "execution_count": 25,
   "id": "24f5ac93",
   "metadata": {},
   "outputs": [
    {
     "name": "stdout",
     "output_type": "stream",
     "text": [
      "(2, 5)\n",
      "10\n"
     ]
    }
   ],
   "source": [
    "print(n2.shape)\n",
    "print(n2.size)"
   ]
  },
  {
   "cell_type": "markdown",
   "id": "824e3ee3",
   "metadata": {},
   "source": [
    "Create two one D arrays each of five elements and apply vector operations like addition, subtraction"
   ]
  },
  {
   "cell_type": "code",
   "execution_count": null,
   "id": "d992d836",
   "metadata": {},
   "outputs": [
    {
     "name": "stdout",
     "output_type": "stream",
     "text": [
      "[[ 1  3  5  7  9]\n",
      " [ 2  4  6  8 10]]\n",
      "[[7 8 2 4 6]\n",
      " [9 1 0 5 3]]\n"
     ]
    }
   ],
   "source": [
    "a1=np.array([[1,3,5,7,9],[2,4,6,8,10]])\n",
    "a2=np.array([[7,8,2,4,6],[9,1,0,5,3]])\n",
    "print(a1)\n",
    "print(a2)"
   ]
  },
  {
   "cell_type": "code",
   "execution_count": 31,
   "id": "296bb850",
   "metadata": {},
   "outputs": [
    {
     "name": "stdout",
     "output_type": "stream",
     "text": [
      "[[ 8 11  7 11 15]\n",
      " [11  5  6 13 13]]\n",
      "[[-6 -5  3  3  3]\n",
      " [-7  3  6  3  7]]\n"
     ]
    }
   ],
   "source": [
    "print(np.add(a1,a2))\n",
    "print(np.subtract(a1,a2))"
   ]
  },
  {
   "cell_type": "markdown",
   "id": "c3680d17",
   "metadata": {},
   "source": [
    "Zeros"
   ]
  },
  {
   "cell_type": "code",
   "execution_count": 38,
   "id": "fa668fb2",
   "metadata": {},
   "outputs": [
    {
     "data": {
      "text/plain": [
       "array([[0., 0., 0.],\n",
       "       [0., 0., 0.]])"
      ]
     },
     "execution_count": 38,
     "metadata": {},
     "output_type": "execute_result"
    }
   ],
   "source": [
    "c=np.zeros((2,3))\n",
    "c"
   ]
  },
  {
   "cell_type": "code",
   "execution_count": 37,
   "id": "4d96be5e",
   "metadata": {},
   "outputs": [
    {
     "data": {
      "text/plain": [
       "array([[0, 0, 0],\n",
       "       [0, 0, 0]])"
      ]
     },
     "execution_count": 37,
     "metadata": {},
     "output_type": "execute_result"
    }
   ],
   "source": [
    "c=np.zeros((2,3),dtype=int)\n",
    "c"
   ]
  },
  {
   "cell_type": "markdown",
   "id": "52856cd9",
   "metadata": {},
   "source": [
    "matrix with all values ones"
   ]
  },
  {
   "cell_type": "code",
   "execution_count": 40,
   "id": "dabdc8d2",
   "metadata": {},
   "outputs": [
    {
     "data": {
      "text/plain": [
       "array([[1., 1.],\n",
       "       [1., 1.],\n",
       "       [1., 1.]])"
      ]
     },
     "execution_count": 40,
     "metadata": {},
     "output_type": "execute_result"
    }
   ],
   "source": [
    "c2=np.ones((3,2))\n",
    "c2"
   ]
  },
  {
   "cell_type": "code",
   "execution_count": 41,
   "id": "33c4ad61",
   "metadata": {},
   "outputs": [
    {
     "data": {
      "text/plain": [
       "array([[1, 1],\n",
       "       [1, 1],\n",
       "       [1, 1]])"
      ]
     },
     "execution_count": 41,
     "metadata": {},
     "output_type": "execute_result"
    }
   ],
   "source": [
    "c2=np.ones((3,2),dtype=int)\n",
    "c2"
   ]
  },
  {
   "cell_type": "markdown",
   "id": "cb4610d7",
   "metadata": {},
   "source": [
    "Create a 3D array of shape (4,3,2) with all zero elements"
   ]
  },
  {
   "cell_type": "code",
   "execution_count": 44,
   "id": "ebea1d09",
   "metadata": {},
   "outputs": [
    {
     "data": {
      "text/plain": [
       "array([[[0, 0],\n",
       "        [0, 0],\n",
       "        [0, 0]],\n",
       "\n",
       "       [[0, 0],\n",
       "        [0, 0],\n",
       "        [0, 0]],\n",
       "\n",
       "       [[0, 0],\n",
       "        [0, 0],\n",
       "        [0, 0]],\n",
       "\n",
       "       [[0, 0],\n",
       "        [0, 0],\n",
       "        [0, 0]]])"
      ]
     },
     "execution_count": 44,
     "metadata": {},
     "output_type": "execute_result"
    }
   ],
   "source": [
    "c3=np.zeros((4,3,2),dtype=int)\n",
    "c3"
   ]
  },
  {
   "cell_type": "markdown",
   "id": "b9edab29",
   "metadata": {},
   "source": [
    "Create an identity matrix using eye method"
   ]
  },
  {
   "cell_type": "code",
   "execution_count": 46,
   "id": "1264c49a",
   "metadata": {},
   "outputs": [
    {
     "data": {
      "text/plain": [
       "array([[1., 0., 0.],\n",
       "       [0., 1., 0.],\n",
       "       [0., 0., 1.]])"
      ]
     },
     "execution_count": 46,
     "metadata": {},
     "output_type": "execute_result"
    }
   ],
   "source": [
    "c4=np.eye(3)\n",
    "c4"
   ]
  },
  {
   "cell_type": "code",
   "execution_count": 47,
   "id": "96a2b078",
   "metadata": {},
   "outputs": [
    {
     "name": "stdout",
     "output_type": "stream",
     "text": [
      "[False False False False False]\n"
     ]
    }
   ],
   "source": [
    "p1=np.array([1,2,3,4,5])\n",
    "p2=np.array([6,7,8,9,10])\n",
    "print(p1>p2)"
   ]
  },
  {
   "cell_type": "markdown",
   "id": "380afddd",
   "metadata": {},
   "source": [
    "Apply logical NOT operation on an input array."
   ]
  },
  {
   "cell_type": "code",
   "execution_count": 49,
   "id": "38c4721a",
   "metadata": {},
   "outputs": [
    {
     "name": "stdout",
     "output_type": "stream",
     "text": [
      "[[0 1 1]\n",
      " [1 0 1]\n",
      " [1 1 0]]\n"
     ]
    }
   ],
   "source": [
    "c1=np.eye(3,dtype=int)\n",
    "c2=np.logical_not(c1).astype(int)\n",
    "print(c2)"
   ]
  },
  {
   "cell_type": "markdown",
   "id": "920b8b50",
   "metadata": {},
   "source": [
    "Consider an array of 3 elements. Create deep and shallow copy of this array."
   ]
  },
  {
   "cell_type": "code",
   "execution_count": 50,
   "id": "e7ccae95",
   "metadata": {},
   "outputs": [
    {
     "name": "stdout",
     "output_type": "stream",
     "text": [
      "<built-in method view of numpy.ndarray object at 0x000002D3FB843210>\n",
      "<built-in method copy of numpy.ndarray object at 0x000002D3FB72DE90>\n"
     ]
    }
   ],
   "source": [
    "#shallow copy ----> a1.view\n",
    "#deep copy ----> a1.copy\n",
    "a1=np.array([1,2,3,4,5])\n",
    "a2=np.array([6,7,8,9,10])\n",
    "print(a1.view)\n",
    "print(a2.copy)"
   ]
  },
  {
   "cell_type": "code",
   "execution_count": 51,
   "id": "6aaafad1",
   "metadata": {},
   "outputs": [
    {
     "name": "stdout",
     "output_type": "stream",
     "text": [
      "<built-in method view of numpy.ndarray object at 0x000002D3FB840FF0>\n",
      "<built-in method copy of numpy.ndarray object at 0x000002D3FB840FF0>\n"
     ]
    }
   ],
   "source": [
    "x=np.array([5,7,9,3])\n",
    "x1=x.view\n",
    "x2=x.copy\n",
    "print(x1)\n",
    "print(x2)"
   ]
  },
  {
   "cell_type": "code",
   "execution_count": 52,
   "id": "dbf23227",
   "metadata": {},
   "outputs": [
    {
     "name": "stdout",
     "output_type": "stream",
     "text": [
      "[10 12 14  8]\n"
     ]
    }
   ],
   "source": [
    "x=np.array([5,7,9,3])\n",
    "x1=x+5\n",
    "print(x1)"
   ]
  },
  {
   "cell_type": "markdown",
   "id": "adeefdbc",
   "metadata": {},
   "source": [
    "Array re-shape or flatten operating"
   ]
  },
  {
   "cell_type": "markdown",
   "id": "3afcad1f",
   "metadata": {},
   "source": [
    "Create a 2D array of 2x4 and reshape into 4x2."
   ]
  },
  {
   "cell_type": "code",
   "execution_count": 60,
   "id": "ca5e8587",
   "metadata": {},
   "outputs": [
    {
     "name": "stdout",
     "output_type": "stream",
     "text": [
      "[[5 7]\n",
      " [9 3]\n",
      " [2 4]\n",
      " [6 8]]\n"
     ]
    }
   ],
   "source": [
    "#reshape operation\n",
    "x=np.array([[5,7,9,3],[2,4,6,8]])\n",
    "print(x.reshape(4,2))"
   ]
  },
  {
   "cell_type": "code",
   "execution_count": 61,
   "id": "b93e8917",
   "metadata": {},
   "outputs": [
    {
     "name": "stdout",
     "output_type": "stream",
     "text": [
      "[5 7 9 3 2 4 6 8]\n"
     ]
    }
   ],
   "source": [
    "#flatten operation\n",
    "x=np.array([[5,7,9,3],[2,4,6,8]])\n",
    "print(x.ravel())"
   ]
  },
  {
   "cell_type": "markdown",
   "id": "ba6010f1",
   "metadata": {},
   "source": [
    "Indexing and Slicing"
   ]
  },
  {
   "cell_type": "markdown",
   "id": "7468fbcb",
   "metadata": {},
   "source": [
    "Consider an 2D array of 2x4 and "
   ]
  },
  {
   "cell_type": "code",
   "execution_count": null,
   "id": "fa5e877c",
   "metadata": {},
   "outputs": [],
   "source": []
  }
 ],
 "metadata": {
  "kernelspec": {
   "display_name": "venv",
   "language": "python",
   "name": "python3"
  },
  "language_info": {
   "codemirror_mode": {
    "name": "ipython",
    "version": 3
   },
   "file_extension": ".py",
   "mimetype": "text/x-python",
   "name": "python",
   "nbconvert_exporter": "python",
   "pygments_lexer": "ipython3",
   "version": "3.11.11"
  }
 },
 "nbformat": 4,
 "nbformat_minor": 5
}
