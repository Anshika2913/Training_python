{
 "cells": [
  {
   "cell_type": "code",
   "execution_count": 6,
   "id": "e51b2586",
   "metadata": {},
   "outputs": [
    {
     "data": {
      "text/html": [
       "<div>\n",
       "<style scoped>\n",
       "    .dataframe tbody tr th:only-of-type {\n",
       "        vertical-align: middle;\n",
       "    }\n",
       "\n",
       "    .dataframe tbody tr th {\n",
       "        vertical-align: top;\n",
       "    }\n",
       "\n",
       "    .dataframe thead th {\n",
       "        text-align: right;\n",
       "    }\n",
       "</style>\n",
       "<table border=\"1\" class=\"dataframe\">\n",
       "  <thead>\n",
       "    <tr style=\"text-align: right;\">\n",
       "      <th></th>\n",
       "      <th>Price1</th>\n",
       "      <th>Price2</th>\n",
       "      <th>Delivery_Time1</th>\n",
       "      <th>Delivery_Time2</th>\n",
       "    </tr>\n",
       "  </thead>\n",
       "  <tbody>\n",
       "    <tr>\n",
       "      <th>0</th>\n",
       "      <td>204.97</td>\n",
       "      <td>211.42</td>\n",
       "      <td>31.2</td>\n",
       "      <td>30.1</td>\n",
       "    </tr>\n",
       "    <tr>\n",
       "      <th>1</th>\n",
       "      <td>198.62</td>\n",
       "      <td>222.71</td>\n",
       "      <td>35.7</td>\n",
       "      <td>34.1</td>\n",
       "    </tr>\n",
       "    <tr>\n",
       "      <th>2</th>\n",
       "      <td>206.48</td>\n",
       "      <td>219.08</td>\n",
       "      <td>30.5</td>\n",
       "      <td>28.1</td>\n",
       "    </tr>\n",
       "    <tr>\n",
       "      <th>3</th>\n",
       "      <td>215.23</td>\n",
       "      <td>213.03</td>\n",
       "      <td>30.8</td>\n",
       "      <td>31.9</td>\n",
       "    </tr>\n",
       "    <tr>\n",
       "      <th>4</th>\n",
       "      <td>197.66</td>\n",
       "      <td>193.69</td>\n",
       "      <td>29.8</td>\n",
       "      <td>29.2</td>\n",
       "    </tr>\n",
       "  </tbody>\n",
       "</table>\n",
       "</div>"
      ],
      "text/plain": [
       "   Price1  Price2  Delivery_Time1  Delivery_Time2\n",
       "0  204.97  211.42            31.2            30.1\n",
       "1  198.62  222.71            35.7            34.1\n",
       "2  206.48  219.08            30.5            28.1\n",
       "3  215.23  213.03            30.8            31.9\n",
       "4  197.66  193.69            29.8            29.2"
      ]
     },
     "execution_count": 6,
     "metadata": {},
     "output_type": "execute_result"
    }
   ],
   "source": [
    "import pandas as pd\n",
    "df=pd.read_csv('dataset.csv') \n",
    "df.head()"
   ]
  },
  {
   "cell_type": "code",
   "execution_count": 7,
   "id": "a9f8018e",
   "metadata": {},
   "outputs": [
    {
     "data": {
      "text/plain": [
       "np.float64(30.331428571428567)"
      ]
     },
     "execution_count": 7,
     "metadata": {},
     "output_type": "execute_result"
    }
   ],
   "source": [
    "df['Delivery_Time1'].mean()"
   ]
  },
  {
   "cell_type": "code",
   "execution_count": 8,
   "id": "319281e9",
   "metadata": {},
   "outputs": [
    {
     "data": {
      "text/plain": [
       "np.float64(30.288571428571426)"
      ]
     },
     "execution_count": 8,
     "metadata": {},
     "output_type": "execute_result"
    }
   ],
   "source": [
    "df['Delivery_Time2'].mean()"
   ]
  },
  {
   "cell_type": "markdown",
   "id": "091a1b49",
   "metadata": {},
   "source": [
    "# Measures of Dispersion"
   ]
  },
  {
   "cell_type": "markdown",
   "id": "a5385d4a",
   "metadata": {},
   "source": [
    "## 🧠 Types of Measures of Dispersion\n",
    "\n",
    "1. **Range** → Difference between maximum and minimum values.  \n",
    "   \\[\n",
    "   \\text{Range} = \\max(X) - \\min(X)\n",
    "   \\]\n",
    "\n",
    "2. **Variance** → Average of squared deviations from mean.  \n",
    "   \\[\n",
    "   \\sigma^2 = \\frac{\\sum (x_i - \\bar{x})^2}{n}\n",
    "   \\]\n",
    "\n",
    "3. **Standard Deviation** → Square root of variance.  \n",
    "   \\[\n",
    "   \\sigma = \\sqrt{\\sigma^2}\n",
    "   \\]\n",
    "\n",
    "4. **Mean Absolute Deviation (MAD)** → Average of absolute deviations from mean.  \n",
    "   \\[\n",
    "   MAD = \\frac{\\sum |x_i - \\bar{x}|}{n}\n",
    "   \\]\n",
    "\n",
    "5. **Interquartile Range (IQR)** → Spread of middle 50% data.  \n",
    "   \\[\n",
    "   IQR = Q_3 - Q_1\n",
    "   \\]\n",
    "\n",
    "💡 **Tip:** Lower dispersion → Data is more consistent. Higher dispersion → Data is more spread out.\n"
   ]
  },
  {
   "cell_type": "markdown",
   "id": "98882981",
   "metadata": {},
   "source": [
    "| Measure | What It Tells | Formula |\n",
    "|--------|----------------|--------|\n",
    "| **Range** | Total spread (Max - Min) | \\(R = \\max - \\min\\) |\n",
    "| **Variance** | Average of squared deviations | \\(\\sigma^2 = \\frac{\\sum (x_i - \\bar{x})^2}{n}\\) |\n",
    "| **Standard Deviation** | Typical deviation from mean | \\(\\sigma = \\sqrt{\\sigma^2}\\) |\n",
    "| **MAD** | Average absolute deviation | \\(MAD = \\frac{\\sum |x_i - \\bar{x}|}{n}\\) |\n",
    "| **IQR** | Middle 50% spread | \\(IQR = Q_3 - Q_1\\) |\n",
    "\n",
    "✅ **Remember:** Smaller dispersion → More consistency, Larger dispersion → More variability.\n"
   ]
  },
  {
   "cell_type": "code",
   "execution_count": 9,
   "id": "88deb9c4",
   "metadata": {},
   "outputs": [
    {
     "data": {
      "text/plain": [
       "3.0466032247063635"
      ]
     },
     "execution_count": 9,
     "metadata": {},
     "output_type": "execute_result"
    }
   ],
   "source": [
    "#standard deviation\n",
    "df['Delivery_Time1'].std()"
   ]
  },
  {
   "cell_type": "code",
   "execution_count": 10,
   "id": "8da899ca",
   "metadata": {},
   "outputs": [
    {
     "data": {
      "text/plain": [
       "5.420621492286411"
      ]
     },
     "execution_count": 10,
     "metadata": {},
     "output_type": "execute_result"
    }
   ],
   "source": [
    "df['Delivery_Time2'].std()"
   ]
  },
  {
   "cell_type": "code",
   "execution_count": 12,
   "id": "c3d58dbe",
   "metadata": {},
   "outputs": [
    {
     "name": "stdout",
     "output_type": "stream",
     "text": [
      "198.7118095238095\n",
      "201.0047619047619\n"
     ]
    }
   ],
   "source": [
    "print(df['Price1'].mean())\n",
    "print(df['Price2'].mean())"
   ]
  },
  {
   "cell_type": "code",
   "execution_count": 13,
   "id": "91036d27",
   "metadata": {},
   "outputs": [
    {
     "name": "stdout",
     "output_type": "stream",
     "text": [
      "8.985142948752891\n",
      "19.998215453809788\n"
     ]
    }
   ],
   "source": [
    "print(df['Price1'].std())\n",
    "print(df['Price2'].std())"
   ]
  },
  {
   "cell_type": "code",
   "execution_count": 17,
   "id": "861e9c95",
   "metadata": {},
   "outputs": [
    {
     "name": "stdout",
     "output_type": "stream",
     "text": [
      "44.72\n",
      "111.12\n"
     ]
    }
   ],
   "source": [
    "#range\n",
    "print(df['Price1'].max() - df['Price1'].min())\n",
    "print(df['Price2'].max() - df['Price2'].min())"
   ]
  },
  {
   "cell_type": "code",
   "execution_count": 18,
   "id": "a6508870",
   "metadata": {},
   "outputs": [
    {
     "name": "stdout",
     "output_type": "stream",
     "text": [
      "80.73279380952378\n",
      "399.9286213369966\n"
     ]
    }
   ],
   "source": [
    "#variance\n",
    "print(df['Price1'].var())\n",
    "print(df['Price2'].var())"
   ]
  },
  {
   "cell_type": "code",
   "execution_count": 20,
   "id": "aa7949bd",
   "metadata": {},
   "outputs": [
    {
     "name": "stdout",
     "output_type": "stream",
     "text": [
      "3.0466032247063635\n",
      "5.420621492286411\n"
     ]
    }
   ],
   "source": [
    "#standard deviation\n",
    "print(df['Delivery_Time1'].std())\n",
    "print(df['Delivery_Time2'].std())"
   ]
  },
  {
   "cell_type": "code",
   "execution_count": 27,
   "id": "c875efa1",
   "metadata": {},
   "outputs": [
    {
     "name": "stdout",
     "output_type": "stream",
     "text": [
      "IQR1:-  9.640000000000015\n",
      "IQR2:-  27.629999999999995\n",
      "IQR3:-  4.199999999999999\n",
      "IQR4:-  7.300000000000004\n"
     ]
    }
   ],
   "source": [
    "#IQR calculation\n",
    "#IQR covers the middle 50% of the data\n",
    "#when we have outliers in the data, we use IQR to measure the spread of the data\n",
    "from scipy import stats\n",
    "print(\"IQR1:- \",stats.iqr(df['Price1'])) #IQR1\n",
    "print(\"IQR2:- \",stats.iqr(df['Price2'])) #IQR2\n",
    "print(\"IQR3:- \",stats.iqr(df['Delivery_Time1'])) #IQR3\n",
    "print(\"IQR4:- \",stats.iqr(df['Delivery_Time2'])) #IQR4 "
   ]
  },
  {
   "cell_type": "code",
   "execution_count": 29,
   "id": "c0f5b8f8",
   "metadata": {},
   "outputs": [
    {
     "data": {
      "text/html": [
       "<div>\n",
       "<style scoped>\n",
       "    .dataframe tbody tr th:only-of-type {\n",
       "        vertical-align: middle;\n",
       "    }\n",
       "\n",
       "    .dataframe tbody tr th {\n",
       "        vertical-align: top;\n",
       "    }\n",
       "\n",
       "    .dataframe thead th {\n",
       "        text-align: right;\n",
       "    }\n",
       "</style>\n",
       "<table border=\"1\" class=\"dataframe\">\n",
       "  <thead>\n",
       "    <tr style=\"text-align: right;\">\n",
       "      <th></th>\n",
       "      <th>Price1</th>\n",
       "      <th>Price2</th>\n",
       "      <th>Delivery_Time1</th>\n",
       "      <th>Delivery_Time2</th>\n",
       "    </tr>\n",
       "  </thead>\n",
       "  <tbody>\n",
       "    <tr>\n",
       "      <th>count</th>\n",
       "      <td>105.000000</td>\n",
       "      <td>105.000000</td>\n",
       "      <td>105.000000</td>\n",
       "      <td>105.000000</td>\n",
       "    </tr>\n",
       "    <tr>\n",
       "      <th>mean</th>\n",
       "      <td>198.711810</td>\n",
       "      <td>201.004762</td>\n",
       "      <td>30.331429</td>\n",
       "      <td>30.288571</td>\n",
       "    </tr>\n",
       "    <tr>\n",
       "      <th>std</th>\n",
       "      <td>8.985143</td>\n",
       "      <td>19.998215</td>\n",
       "      <td>3.046603</td>\n",
       "      <td>5.420621</td>\n",
       "    </tr>\n",
       "    <tr>\n",
       "      <th>min</th>\n",
       "      <td>173.800000</td>\n",
       "      <td>135.170000</td>\n",
       "      <td>24.200000</td>\n",
       "      <td>17.300000</td>\n",
       "    </tr>\n",
       "    <tr>\n",
       "      <th>25%</th>\n",
       "      <td>193.980000</td>\n",
       "      <td>187.550000</td>\n",
       "      <td>27.700000</td>\n",
       "      <td>26.400000</td>\n",
       "    </tr>\n",
       "    <tr>\n",
       "      <th>50%</th>\n",
       "      <td>198.140000</td>\n",
       "      <td>201.400000</td>\n",
       "      <td>30.600000</td>\n",
       "      <td>30.100000</td>\n",
       "    </tr>\n",
       "    <tr>\n",
       "      <th>75%</th>\n",
       "      <td>203.620000</td>\n",
       "      <td>215.180000</td>\n",
       "      <td>31.900000</td>\n",
       "      <td>33.700000</td>\n",
       "    </tr>\n",
       "    <tr>\n",
       "      <th>max</th>\n",
       "      <td>218.520000</td>\n",
       "      <td>246.290000</td>\n",
       "      <td>41.600000</td>\n",
       "      <td>43.100000</td>\n",
       "    </tr>\n",
       "  </tbody>\n",
       "</table>\n",
       "</div>"
      ],
      "text/plain": [
       "           Price1      Price2  Delivery_Time1  Delivery_Time2\n",
       "count  105.000000  105.000000      105.000000      105.000000\n",
       "mean   198.711810  201.004762       30.331429       30.288571\n",
       "std      8.985143   19.998215        3.046603        5.420621\n",
       "min    173.800000  135.170000       24.200000       17.300000\n",
       "25%    193.980000  187.550000       27.700000       26.400000\n",
       "50%    198.140000  201.400000       30.600000       30.100000\n",
       "75%    203.620000  215.180000       31.900000       33.700000\n",
       "max    218.520000  246.290000       41.600000       43.100000"
      ]
     },
     "execution_count": 29,
     "metadata": {},
     "output_type": "execute_result"
    }
   ],
   "source": [
    "#only applicable for continuous data\n",
    "df.describe()"
   ]
  },
  {
   "cell_type": "code",
   "execution_count": 35,
   "id": "6f45e172",
   "metadata": {},
   "outputs": [
    {
     "name": "stdout",
     "output_type": "stream",
     "text": [
      "mean Price1            198.711810\n",
      "Price2            201.004762\n",
      "Delivery_Time1     30.331429\n",
      "Delivery_Time2     30.288571\n",
      "dtype: float64\n",
      "median Price1            198.14\n",
      "Price2            201.40\n",
      "Delivery_Time1     30.60\n",
      "Delivery_Time2     30.10\n",
      "dtype: float64\n"
     ]
    }
   ],
   "source": [
    "mean,median=df.mean(), df.median()\n",
    "print(\"mean\",mean)\n",
    "print(\"median\",median)"
   ]
  },
  {
   "cell_type": "code",
   "execution_count": 39,
   "id": "97ad6f6d",
   "metadata": {},
   "outputs": [
    {
     "data": {
      "image/png": "[encoded data removed]",
      "text/plain": [
       "<Figure size 800x500 with 1 Axes>"
      ]
     },
     "metadata": {},
     "output_type": "display_data"
    }
   ],
   "source": [
    "import matplotlib.pyplot as plt\n",
    "import seaborn as sns\n",
    "\n",
    "mean = df[\"Price1\"].mean()\n",
    "median = df[\"Price1\"].median()\n",
    "std = df[\"Price1\"].std()\n",
    "plt.figure(figsize=(8,5))\n",
    "sns.histplot(df[\"Price1\"], kde=True, bins=10, color='skyblue')\n",
    "plt.axvline(mean, color='red', linestyle='--', label=f\"Mean = {mean:.2f}\")\n",
    "plt.axvline(median, color='green', linestyle='--', label=f\"Median = {median:.2f}\")\n",
    "plt.axvspan(mean - std, mean + std, color='orange', alpha=0.2, label='Mean ± 1 Std Dev')\n",
    "plt.title('Histogram of Price1 with Mean, Median and Std Dev')\n",
    "plt.show()\n"
   ]
  }
 ],
 "metadata": {
  "kernelspec": {
   "display_name": "venv",
   "language": "python",
   "name": "python3"
  },
  "language_info": {
   "codemirror_mode": {
    "name": "ipython",
    "version": 3
   },
   "file_extension": ".py",
   "mimetype": "text/x-python",
   "name": "python",
   "nbconvert_exporter": "python",
   "pygments_lexer": "ipython3",
   "version": "3.11.11"
  }
 },
 "nbformat": 4,
 "nbformat_minor": 5
}
