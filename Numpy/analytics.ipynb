{
 "cells": [
  {
   "cell_type": "markdown",
   "id": "fde460bc",
   "metadata": {},
   "source": [
    "# 📊 Types of Analytics in Python  \n",
    "\n",
    "There are the **4 main types of analytics**:  \n",
    "\n",
    "1. **Descriptive Analytics** → What happened?  \n",
    "                               We summarize data using statistics and visualize patterns.\n",
    "\n",
    "2. **Diagnostic Analytics** → Why did it happen?  \n",
    "                              We use correlation, grouping, and statistical tests to find patterns.\n",
    "\n",
    "3. **Predictive Analytics** → What will happen next?  \n",
    "                              We use machine learning models like Linear Regression to forecast future trends.\n",
    "\n",
    "4. **Prescriptive Analytics** → What should we do about it?  \n",
    "                                We use optimization techniques to minimize cost or maximize profit.\n",
    "\n",
    "We'll use Python and popular libraries like Pandas, Matplotlib, Seaborn, and Scikit-learn to demonstrate each type of analytics."
   ]
  },
  {
   "cell_type": "markdown",
   "id": "ef13806a",
   "metadata": {},
   "source": [
    "## 🧠 Summary  \n",
    "\n",
    "| Type              | Question Answered | Example                   | Python Tools         |\n",
    "|------------------|------------------|-------------------------|---------------------|\n",
    "| **Descriptive**  | What happened?   | Avg sales per month      | pandas, matplotlib  |\n",
    "| **Diagnostic**   | Why it happened? | Sales drop cause analysis| pandas, seaborn, scipy |\n",
    "| **Predictive**   | What will happen?| Sales forecast           | scikit-learn        |\n",
    "| **Prescriptive** | What to do?      | Optimal pricing strategy | SciPy.optimize, PuLP |\n"
   ]
  },
  {
   "cell_type": "markdown",
   "id": "b5018d6b",
   "metadata": {},
   "source": [
    "# Measures of Central Tendency "
   ]
  },
  {
   "cell_type": "markdown",
   "id": "b630f2bc",
   "metadata": {},
   "source": [
    "# 📊 Mean, Median & Mode  \n",
    "\n",
    "Understanding these measures of central tendency is essential for analytics.  \n",
    "\n",
    "| Measure | Meaning | When to Use |\n",
    "|--------|---------|-------------|\n",
    "| **Mean** | Average of all values | Works well when data has no extreme outliers |\n",
    "| **Median** | Middle value when data is sorted | Best for skewed data (less affected by outliers) |\n",
    "| **Mode** | Most frequently occurring value | Useful for categorical or discrete data |\n"
   ]
  }
 ],
 "metadata": {
  "kernelspec": {
   "display_name": "venv",
   "language": "python",
   "name": "python3"
  },
  "language_info": {
   "codemirror_mode": {
    "name": "ipython",
    "version": 3
   },
   "file_extension": ".py",
   "mimetype": "text/x-python",
   "name": "python",
   "nbconvert_exporter": "python",
   "pygments_lexer": "ipython3",
   "version": "3.11.11"
  }
 },
 "nbformat": 4,
 "nbformat_minor": 5
}
